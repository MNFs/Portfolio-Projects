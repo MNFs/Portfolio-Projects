{
 "cells": [
  {
   "cell_type": "code",
   "execution_count": 43,
   "id": "9d253872",
   "metadata": {},
   "outputs": [],
   "source": [
    "import numpy as np\n"
   ]
  },
  {
   "cell_type": "code",
   "execution_count": 44,
   "id": "b5687cf5",
   "metadata": {},
   "outputs": [],
   "source": [
    "arr = np.array([1.0,2.0,3.0])"
   ]
  },
  {
   "cell_type": "code",
   "execution_count": 45,
   "id": "1f205739",
   "metadata": {},
   "outputs": [
    {
     "data": {
      "text/plain": [
       "array([1., 2., 3.])"
      ]
     },
     "execution_count": 45,
     "metadata": {},
     "output_type": "execute_result"
    }
   ],
   "source": [
    "arr\n"
   ]
  },
  {
   "cell_type": "code",
   "execution_count": 46,
   "id": "f93aebfe",
   "metadata": {},
   "outputs": [
    {
     "data": {
      "text/plain": [
       "<function ndarray.mean>"
      ]
     },
     "execution_count": 46,
     "metadata": {},
     "output_type": "execute_result"
    }
   ],
   "source": [
    "arr.mean"
   ]
  },
  {
   "cell_type": "code",
   "execution_count": 47,
   "id": "27cfd996",
   "metadata": {},
   "outputs": [],
   "source": [
    "zero = np.zeros(3)"
   ]
  },
  {
   "cell_type": "code",
   "execution_count": 48,
   "id": "d3508a34",
   "metadata": {},
   "outputs": [
    {
     "data": {
      "text/plain": [
       "dtype('float64')"
      ]
     },
     "execution_count": 48,
     "metadata": {},
     "output_type": "execute_result"
    }
   ],
   "source": [
    "zero.dtype"
   ]
  },
  {
   "cell_type": "code",
   "execution_count": 49,
   "id": "ac20a83b",
   "metadata": {},
   "outputs": [
    {
     "name": "stdout",
     "output_type": "stream",
     "text": [
      "[[1. 1. 1. 1. 1.]\n",
      " [1. 1. 1. 1. 1.]\n",
      " [1. 1. 1. 1. 1.]\n",
      " [1. 1. 1. 1. 1.]\n",
      " [1. 1. 1. 1. 1.]]\n"
     ]
    }
   ],
   "source": [
    "matrix1 = np.ones((5,5))\n",
    "print(matrix1)"
   ]
  },
  {
   "cell_type": "code",
   "execution_count": 50,
   "id": "57862f8d",
   "metadata": {},
   "outputs": [
    {
     "data": {
      "text/plain": [
       "array([1, 2, 3, 4, 5])"
      ]
     },
     "execution_count": 50,
     "metadata": {},
     "output_type": "execute_result"
    }
   ],
   "source": [
    "my_list = [1,2,3,4,5]\n",
    "array = np.array(my_list)\n",
    "array\n"
   ]
  },
  {
   "cell_type": "code",
   "execution_count": 51,
   "id": "8713d2e7",
   "metadata": {},
   "outputs": [
    {
     "name": "stdout",
     "output_type": "stream",
     "text": [
      "[1 2 3 4 5]\n"
     ]
    }
   ],
   "source": [
    "print(array)"
   ]
  },
  {
   "cell_type": "code",
   "execution_count": 52,
   "id": "fcb73a21",
   "metadata": {},
   "outputs": [
    {
     "data": {
      "text/plain": [
       "array([0, 1, 2, 3, 4, 5, 6, 7, 8, 9])"
      ]
     },
     "execution_count": 52,
     "metadata": {},
     "output_type": "execute_result"
    }
   ],
   "source": [
    "np.arange(0,10)\n"
   ]
  },
  {
   "cell_type": "code",
   "execution_count": 53,
   "id": "53766e02",
   "metadata": {},
   "outputs": [
    {
     "data": {
      "text/plain": [
       "array([[-0.09273642, -1.10820608,  1.65692529],\n",
       "       [ 1.31337751,  0.94092329, -0.36963169],\n",
       "       [ 0.99963351,  0.78524372,  0.75621998]])"
      ]
     },
     "execution_count": 53,
     "metadata": {},
     "output_type": "execute_result"
    }
   ],
   "source": [
    "np.random.randn(3,3)"
   ]
  },
  {
   "cell_type": "code",
   "execution_count": 54,
   "id": "640a77f6",
   "metadata": {},
   "outputs": [
    {
     "data": {
      "text/plain": [
       "array([31, 23, 24, 39, 15])"
      ]
     },
     "execution_count": 54,
     "metadata": {},
     "output_type": "execute_result"
    }
   ],
   "source": [
    "np.random.randint(10,50, 5)"
   ]
  },
  {
   "cell_type": "code",
   "execution_count": 55,
   "id": "64cffa52",
   "metadata": {},
   "outputs": [],
   "source": [
    "######  PANDAS  #######\n",
    "import pandas as pd"
   ]
  },
  {
   "cell_type": "code",
   "execution_count": 56,
   "id": "702b9f2d",
   "metadata": {},
   "outputs": [],
   "source": [
    "from numpy.random import randn"
   ]
  },
  {
   "cell_type": "code",
   "execution_count": 57,
   "id": "442adc01",
   "metadata": {},
   "outputs": [],
   "source": [
    "data = [54,12,65]\n",
    "labels = [\"John\", \"Kim\", \"Tim\"]"
   ]
  },
  {
   "cell_type": "code",
   "execution_count": 58,
   "id": "a2fe596f",
   "metadata": {},
   "outputs": [],
   "source": [
    "numpy_arr = np.array(data)"
   ]
  },
  {
   "cell_type": "code",
   "execution_count": 59,
   "id": "b0539439",
   "metadata": {},
   "outputs": [
    {
     "data": {
      "text/plain": [
       "array([54, 12, 65])"
      ]
     },
     "execution_count": 59,
     "metadata": {},
     "output_type": "execute_result"
    }
   ],
   "source": [
    "numpy_arr"
   ]
  },
  {
   "cell_type": "code",
   "execution_count": 60,
   "id": "2c6e98ef",
   "metadata": {},
   "outputs": [
    {
     "data": {
      "text/plain": [
       "numpy.ndarray"
      ]
     },
     "execution_count": 60,
     "metadata": {},
     "output_type": "execute_result"
    }
   ],
   "source": [
    "type(numpy_arr)"
   ]
  },
  {
   "cell_type": "code",
   "execution_count": 61,
   "id": "a093db10",
   "metadata": {},
   "outputs": [],
   "source": [
    "# pandas Series létrehozása:\n",
    "my_series = pd.Series(numpy_arr, labels)"
   ]
  },
  {
   "cell_type": "code",
   "execution_count": 62,
   "id": "3ae2b138",
   "metadata": {},
   "outputs": [
    {
     "data": {
      "text/plain": [
       "John    54\n",
       "Kim     12\n",
       "Tim     65\n",
       "dtype: int32"
      ]
     },
     "execution_count": 62,
     "metadata": {},
     "output_type": "execute_result"
    }
   ],
   "source": [
    "my_series"
   ]
  },
  {
   "cell_type": "code",
   "execution_count": 63,
   "id": "3767b6f1",
   "metadata": {},
   "outputs": [],
   "source": [
    "# pandas series létrehozása:\n",
    "my_series2 = pd.Series(data, labels)"
   ]
  },
  {
   "cell_type": "code",
   "execution_count": 64,
   "id": "185295a1",
   "metadata": {},
   "outputs": [
    {
     "data": {
      "text/plain": [
       "John    54\n",
       "Kim     12\n",
       "Tim     65\n",
       "dtype: int64"
      ]
     },
     "execution_count": 64,
     "metadata": {},
     "output_type": "execute_result"
    }
   ],
   "source": [
    "my_series2"
   ]
  },
  {
   "cell_type": "code",
   "execution_count": 65,
   "id": "9f077ae9",
   "metadata": {},
   "outputs": [],
   "source": [
    "# pandas series létrehozása:\n",
    "my_series3 = pd.Series(labels)"
   ]
  },
  {
   "cell_type": "code",
   "execution_count": 66,
   "id": "7920598f",
   "metadata": {},
   "outputs": [
    {
     "data": {
      "text/plain": [
       "0    John\n",
       "1     Kim\n",
       "2     Tim\n",
       "dtype: object"
      ]
     },
     "execution_count": 66,
     "metadata": {},
     "output_type": "execute_result"
    }
   ],
   "source": [
    "my_series3\n"
   ]
  },
  {
   "cell_type": "code",
   "execution_count": 67,
   "id": "91f98936",
   "metadata": {},
   "outputs": [],
   "source": [
    " dict = {\"John\":41, \"Kim\":28, \"Tim\":32}"
   ]
  },
  {
   "cell_type": "code",
   "execution_count": 68,
   "id": "b6788d27",
   "metadata": {},
   "outputs": [],
   "source": [
    "my_series4 = pd.Series(dict)"
   ]
  },
  {
   "cell_type": "code",
   "execution_count": 69,
   "id": "f073a5bb",
   "metadata": {},
   "outputs": [
    {
     "data": {
      "text/plain": [
       "John    41\n",
       "Kim     28\n",
       "Tim     32\n",
       "dtype: int64"
      ]
     },
     "execution_count": 69,
     "metadata": {},
     "output_type": "execute_result"
    }
   ],
   "source": [
    "my_series4"
   ]
  },
  {
   "cell_type": "code",
   "execution_count": 70,
   "id": "3d3aa1f1",
   "metadata": {},
   "outputs": [],
   "source": [
    "# pandas series létrehozása:\n",
    "my_series = pd.Series(labels, numpy_arr)"
   ]
  },
  {
   "cell_type": "code",
   "execution_count": 71,
   "id": "916f5e17",
   "metadata": {},
   "outputs": [
    {
     "data": {
      "text/plain": [
       "54    John\n",
       "12     Kim\n",
       "65     Tim\n",
       "dtype: object"
      ]
     },
     "execution_count": 71,
     "metadata": {},
     "output_type": "execute_result"
    }
   ],
   "source": [
    "my_series #Megfordítja"
   ]
  },
  {
   "cell_type": "code",
   "execution_count": 72,
   "id": "c6f35e7e",
   "metadata": {},
   "outputs": [],
   "source": [
    "#** Data frames létrehozása"
   ]
  },
  {
   "cell_type": "code",
   "execution_count": 73,
   "id": "5fca5e2f",
   "metadata": {},
   "outputs": [],
   "source": [
    "data = randn(5,4)\n",
    "rows = [\"A\", \"B\",\"C\",\"D\",\"E\"]\n",
    "columns =[1,2,3,4]"
   ]
  },
  {
   "cell_type": "code",
   "execution_count": 74,
   "id": "87e4a22c",
   "metadata": {},
   "outputs": [
    {
     "data": {
      "text/plain": [
       "array([[-0.73516588,  0.51743153,  2.64862348,  1.5539663 ],\n",
       "       [ 0.89853544, -0.90735356, -1.52326067, -0.65371408],\n",
       "       [-0.30466501,  1.8073253 , -1.18677667,  0.77853009],\n",
       "       [ 0.23713338,  0.65034283, -1.52044606, -0.14891498],\n",
       "       [-2.88142475, -1.07442559, -0.71872584,  0.97257605]])"
      ]
     },
     "execution_count": 74,
     "metadata": {},
     "output_type": "execute_result"
    }
   ],
   "source": [
    "data"
   ]
  },
  {
   "cell_type": "code",
   "execution_count": 75,
   "id": "877ef9cd",
   "metadata": {},
   "outputs": [],
   "source": [
    "df = pd.DataFrame(data, rows, columns) # kellenek előbb a sor és oszlop nevek külön létrehozása is"
   ]
  },
  {
   "cell_type": "code",
   "execution_count": 76,
   "id": "5cb3efef",
   "metadata": {},
   "outputs": [
    {
     "data": {
      "text/html": [
       "<div>\n",
       "<style scoped>\n",
       "    .dataframe tbody tr th:only-of-type {\n",
       "        vertical-align: middle;\n",
       "    }\n",
       "\n",
       "    .dataframe tbody tr th {\n",
       "        vertical-align: top;\n",
       "    }\n",
       "\n",
       "    .dataframe thead th {\n",
       "        text-align: right;\n",
       "    }\n",
       "</style>\n",
       "<table border=\"1\" class=\"dataframe\">\n",
       "  <thead>\n",
       "    <tr style=\"text-align: right;\">\n",
       "      <th></th>\n",
       "      <th>1</th>\n",
       "      <th>2</th>\n",
       "      <th>3</th>\n",
       "      <th>4</th>\n",
       "    </tr>\n",
       "  </thead>\n",
       "  <tbody>\n",
       "    <tr>\n",
       "      <th>A</th>\n",
       "      <td>-0.735166</td>\n",
       "      <td>0.517432</td>\n",
       "      <td>2.648623</td>\n",
       "      <td>1.553966</td>\n",
       "    </tr>\n",
       "    <tr>\n",
       "      <th>B</th>\n",
       "      <td>0.898535</td>\n",
       "      <td>-0.907354</td>\n",
       "      <td>-1.523261</td>\n",
       "      <td>-0.653714</td>\n",
       "    </tr>\n",
       "    <tr>\n",
       "      <th>C</th>\n",
       "      <td>-0.304665</td>\n",
       "      <td>1.807325</td>\n",
       "      <td>-1.186777</td>\n",
       "      <td>0.778530</td>\n",
       "    </tr>\n",
       "    <tr>\n",
       "      <th>D</th>\n",
       "      <td>0.237133</td>\n",
       "      <td>0.650343</td>\n",
       "      <td>-1.520446</td>\n",
       "      <td>-0.148915</td>\n",
       "    </tr>\n",
       "    <tr>\n",
       "      <th>E</th>\n",
       "      <td>-2.881425</td>\n",
       "      <td>-1.074426</td>\n",
       "      <td>-0.718726</td>\n",
       "      <td>0.972576</td>\n",
       "    </tr>\n",
       "  </tbody>\n",
       "</table>\n",
       "</div>"
      ],
      "text/plain": [
       "          1         2         3         4\n",
       "A -0.735166  0.517432  2.648623  1.553966\n",
       "B  0.898535 -0.907354 -1.523261 -0.653714\n",
       "C -0.304665  1.807325 -1.186777  0.778530\n",
       "D  0.237133  0.650343 -1.520446 -0.148915\n",
       "E -2.881425 -1.074426 -0.718726  0.972576"
      ]
     },
     "execution_count": 76,
     "metadata": {},
     "output_type": "execute_result"
    }
   ],
   "source": [
    "df"
   ]
  },
  {
   "cell_type": "code",
   "execution_count": 77,
   "id": "a8cab2aa",
   "metadata": {},
   "outputs": [
    {
     "data": {
      "text/plain": [
       "A   -0.735166\n",
       "B    0.898535\n",
       "C   -0.304665\n",
       "D    0.237133\n",
       "E   -2.881425\n",
       "Name: 1, dtype: float64"
      ]
     },
     "execution_count": 77,
     "metadata": {},
     "output_type": "execute_result"
    }
   ],
   "source": [
    "df[1]"
   ]
  },
  {
   "cell_type": "code",
   "execution_count": 78,
   "id": "38b1143f",
   "metadata": {},
   "outputs": [
    {
     "data": {
      "text/plain": [
       "pandas.core.series.Series"
      ]
     },
     "execution_count": 78,
     "metadata": {},
     "output_type": "execute_result"
    }
   ],
   "source": [
    "type(df[1])"
   ]
  },
  {
   "cell_type": "code",
   "execution_count": 79,
   "id": "66f8fbdf",
   "metadata": {},
   "outputs": [
    {
     "data": {
      "text/plain": [
       "pandas.core.frame.DataFrame"
      ]
     },
     "execution_count": 79,
     "metadata": {},
     "output_type": "execute_result"
    }
   ],
   "source": [
    "type(df)"
   ]
  },
  {
   "cell_type": "code",
   "execution_count": 80,
   "id": "7eb83d19",
   "metadata": {},
   "outputs": [
    {
     "data": {
      "text/plain": [
       "A    0.517432\n",
       "B   -0.907354\n",
       "C    1.807325\n",
       "D    0.650343\n",
       "E   -1.074426\n",
       "Name: 2, dtype: float64"
      ]
     },
     "execution_count": 80,
     "metadata": {},
     "output_type": "execute_result"
    }
   ],
   "source": [
    "df[2]"
   ]
  },
  {
   "cell_type": "code",
   "execution_count": 81,
   "id": "c8ebab4a",
   "metadata": {},
   "outputs": [
    {
     "name": "stdout",
     "output_type": "stream",
     "text": [
      "Package                   Version\n",
      "------------------------- ---------\n",
      "alembic                   1.7.6\n",
      "altgraph                  0.17.2\n",
      "anyio                     3.5.0\n",
      "argon2-cffi               21.3.0\n",
      "argon2-cffi-bindings      21.2.0\n",
      "asttokens                 2.0.5\n",
      "async-generator           1.10\n",
      "attrs                     21.4.0\n",
      "Babel                     2.9.1\n",
      "backcall                  0.2.0\n",
      "beautifulsoup4            4.10.0\n",
      "black                     22.1.0\n",
      "bleach                    4.1.0\n",
      "certifi                   2021.10.8\n",
      "certipy                   0.1.3\n",
      "cffi                      1.15.0\n",
      "charset-normalizer        2.0.11\n",
      "click                     8.0.3\n",
      "colorama                  0.4.4\n",
      "cryptography              36.0.1\n",
      "cycler                    0.11.0\n",
      "debugpy                   1.5.1\n",
      "decorator                 5.1.1\n",
      "defusedxml                0.7.1\n",
      "EditorConfig              0.12.3\n",
      "entrypoints               0.4\n",
      "et-xmlfile                1.1.0\n",
      "executing                 0.8.2\n",
      "fonttools                 4.29.1\n",
      "future                    0.18.2\n",
      "greenlet                  1.1.2\n",
      "idna                      3.3\n",
      "ipykernel                 6.8.0\n",
      "ipython                   8.0.1\n",
      "ipython-genutils          0.2.0\n",
      "jedi                      0.18.1\n",
      "Jinja2                    3.0.3\n",
      "joblib                    1.1.0\n",
      "json5                     0.9.6\n",
      "jsonschema                4.4.0\n",
      "jupyter-client            7.1.2\n",
      "jupyter-core              4.9.1\n",
      "jupyter-server            1.13.4\n",
      "jupyter-telemetry         0.1.0\n",
      "jupyterhub                2.1.1\n",
      "jupyterlab                3.2.8\n",
      "jupyterlab-pygments       0.1.2\n",
      "jupyterlab-server         2.10.3\n",
      "kiwisolver                1.3.2\n",
      "Mako                      1.1.6\n",
      "MarkupSafe                2.0.1\n",
      "matplotlib                3.5.1\n",
      "matplotlib-inline         0.1.3\n",
      "mistune                   0.8.4\n",
      "mypy-extensions           0.4.3\n",
      "nbclassic                 0.3.5\n",
      "nbclient                  0.5.10\n",
      "nbconvert                 6.4.2\n",
      "nbformat                  5.1.3\n",
      "nest-asyncio              1.5.4\n",
      "notebook                  6.4.8\n",
      "numpy                     1.22.2\n",
      "oauthlib                  3.2.0\n",
      "openpyxl                  3.0.9\n",
      "packaging                 21.3\n",
      "pandas                    1.4.1\n",
      "pandocfilters             1.5.0\n",
      "parso                     0.8.3\n",
      "pathspec                  0.9.0\n",
      "pefile                    2021.9.3\n",
      "pickleshare               0.7.5\n",
      "PIL-Tools                 1.1.0\n",
      "Pillow                    9.0.1\n",
      "pip                       22.0.4\n",
      "platformdirs              2.4.1\n",
      "prometheus-client         0.13.1\n",
      "prompt-toolkit            3.0.26\n",
      "psutil                    5.9.0\n",
      "pure-eval                 0.2.2\n",
      "pycparser                 2.21\n",
      "pyglet                    1.5.21\n",
      "Pygments                  2.11.2\n",
      "pyinstaller               4.8\n",
      "pyinstaller-hooks-contrib 2022.0\n",
      "pyOpenSSL                 22.0.0\n",
      "pyparsing                 3.0.7\n",
      "pyrsistent                0.18.1\n",
      "python-dateutil           2.8.2\n",
      "python-json-logger        2.0.2\n",
      "pytz                      2021.3\n",
      "pywin32                   303\n",
      "pywin32-ctypes            0.2.0\n",
      "pywinpty                  2.0.2\n",
      "pyzmq                     22.3.0\n",
      "requests                  2.27.1\n",
      "ruamel.yaml               0.17.21\n",
      "ruamel.yaml.clib          0.2.6\n",
      "scikit-learn              1.0.2\n",
      "scipy                     1.8.0\n",
      "seaborn                   0.11.2\n",
      "Send2Trash                1.8.0\n",
      "setuptools                60.7.1\n",
      "six                       1.16.0\n",
      "sniffio                   1.2.0\n",
      "soupsieve                 2.3.1\n",
      "SQLAlchemy                1.4.31\n",
      "stack-data                0.1.4\n",
      "terminado                 0.13.1\n",
      "testpath                  0.5.0\n",
      "threadpoolctl             3.1.0\n",
      "tomli                     2.0.0\n",
      "tornado                   6.1\n",
      "traitlets                 5.1.1\n",
      "urllib3                   1.26.8\n",
      "wcwidth                   0.2.5\n",
      "webencodings              0.5.1\n",
      "websocket-client          1.2.3\n"
     ]
    }
   ],
   "source": [
    "!pip list"
   ]
  },
  {
   "cell_type": "code",
   "execution_count": 82,
   "id": "8131a7c2",
   "metadata": {},
   "outputs": [
    {
     "ename": "SyntaxError",
     "evalue": "invalid syntax. Perhaps you forgot a comma? (2350214200.py, line 1)",
     "output_type": "error",
     "traceback": [
      "\u001b[1;36m  Input \u001b[1;32mIn [82]\u001b[1;36m\u001b[0m\n\u001b[1;33m    -m pip install --upgrade pip\u001b[0m\n\u001b[1;37m    ^\u001b[0m\n\u001b[1;31mSyntaxError\u001b[0m\u001b[1;31m:\u001b[0m invalid syntax. Perhaps you forgot a comma?\n"
     ]
    }
   ],
   "source": [
    "-m pip install --upgrade pip"
   ]
  },
  {
   "cell_type": "code",
   "execution_count": 83,
   "id": "d339ef00",
   "metadata": {},
   "outputs": [
    {
     "name": "stderr",
     "output_type": "stream",
     "text": [
      "'-m' is not recognized as an internal or external command,\n",
      "operable program or batch file.\n"
     ]
    }
   ],
   "source": [
    "!-m pip install --upgrade pip"
   ]
  },
  {
   "cell_type": "code",
   "execution_count": 84,
   "id": "192739e3",
   "metadata": {},
   "outputs": [
    {
     "name": "stdout",
     "output_type": "stream",
     "text": [
      "Defaulting to user installation because normal site-packages is not writeable\n",
      "Requirement already satisfied: pip in c:\\users\\lenovo\\appdata\\roaming\\python\\python310\\site-packages (22.0.4)\n"
     ]
    }
   ],
   "source": [
    "! pip install --upgrade pip"
   ]
  },
  {
   "cell_type": "code",
   "execution_count": 85,
   "id": "723cb974",
   "metadata": {},
   "outputs": [
    {
     "data": {
      "application/json": {
       "cell": {
        "!": "OSMagics",
        "HTML": "Other",
        "SVG": "Other",
        "bash": "Other",
        "capture": "ExecutionMagics",
        "cmd": "Other",
        "debug": "ExecutionMagics",
        "file": "Other",
        "html": "DisplayMagics",
        "javascript": "DisplayMagics",
        "js": "DisplayMagics",
        "latex": "DisplayMagics",
        "markdown": "DisplayMagics",
        "perl": "Other",
        "prun": "ExecutionMagics",
        "pypy": "Other",
        "python": "Other",
        "python2": "Other",
        "python3": "Other",
        "ruby": "Other",
        "script": "ScriptMagics",
        "sh": "Other",
        "svg": "DisplayMagics",
        "sx": "OSMagics",
        "system": "OSMagics",
        "time": "ExecutionMagics",
        "timeit": "ExecutionMagics",
        "writefile": "OSMagics"
       },
       "line": {
        "alias": "OSMagics",
        "alias_magic": "BasicMagics",
        "autoawait": "AsyncMagics",
        "autocall": "AutoMagics",
        "automagic": "AutoMagics",
        "autosave": "KernelMagics",
        "bookmark": "OSMagics",
        "cd": "OSMagics",
        "clear": "KernelMagics",
        "cls": "KernelMagics",
        "colors": "BasicMagics",
        "conda": "PackagingMagics",
        "config": "ConfigMagics",
        "connect_info": "KernelMagics",
        "copy": "Other",
        "ddir": "Other",
        "debug": "ExecutionMagics",
        "dhist": "OSMagics",
        "dirs": "OSMagics",
        "doctest_mode": "BasicMagics",
        "echo": "Other",
        "ed": "Other",
        "edit": "KernelMagics",
        "env": "OSMagics",
        "gui": "BasicMagics",
        "hist": "Other",
        "history": "HistoryMagics",
        "killbgscripts": "ScriptMagics",
        "ldir": "Other",
        "less": "KernelMagics",
        "load": "CodeMagics",
        "load_ext": "ExtensionMagics",
        "loadpy": "CodeMagics",
        "logoff": "LoggingMagics",
        "logon": "LoggingMagics",
        "logstart": "LoggingMagics",
        "logstate": "LoggingMagics",
        "logstop": "LoggingMagics",
        "ls": "Other",
        "lsmagic": "BasicMagics",
        "macro": "ExecutionMagics",
        "magic": "BasicMagics",
        "matplotlib": "PylabMagics",
        "mkdir": "Other",
        "more": "KernelMagics",
        "notebook": "BasicMagics",
        "page": "BasicMagics",
        "pastebin": "CodeMagics",
        "pdb": "ExecutionMagics",
        "pdef": "NamespaceMagics",
        "pdoc": "NamespaceMagics",
        "pfile": "NamespaceMagics",
        "pinfo": "NamespaceMagics",
        "pinfo2": "NamespaceMagics",
        "pip": "PackagingMagics",
        "popd": "OSMagics",
        "pprint": "BasicMagics",
        "precision": "BasicMagics",
        "prun": "ExecutionMagics",
        "psearch": "NamespaceMagics",
        "psource": "NamespaceMagics",
        "pushd": "OSMagics",
        "pwd": "OSMagics",
        "pycat": "OSMagics",
        "pylab": "PylabMagics",
        "qtconsole": "KernelMagics",
        "quickref": "BasicMagics",
        "recall": "HistoryMagics",
        "rehashx": "OSMagics",
        "reload_ext": "ExtensionMagics",
        "ren": "Other",
        "rep": "Other",
        "rerun": "HistoryMagics",
        "reset": "NamespaceMagics",
        "reset_selective": "NamespaceMagics",
        "rmdir": "Other",
        "run": "ExecutionMagics",
        "save": "CodeMagics",
        "sc": "OSMagics",
        "set_env": "OSMagics",
        "store": "StoreMagics",
        "sx": "OSMagics",
        "system": "OSMagics",
        "tb": "ExecutionMagics",
        "time": "ExecutionMagics",
        "timeit": "ExecutionMagics",
        "unalias": "OSMagics",
        "unload_ext": "ExtensionMagics",
        "who": "NamespaceMagics",
        "who_ls": "NamespaceMagics",
        "whos": "NamespaceMagics",
        "xdel": "NamespaceMagics",
        "xmode": "BasicMagics"
       }
      },
      "text/plain": [
       "Available line magics:\n",
       "%alias  %alias_magic  %autoawait  %autocall  %automagic  %autosave  %bookmark  %cd  %clear  %cls  %colors  %conda  %config  %connect_info  %copy  %ddir  %debug  %dhist  %dirs  %doctest_mode  %echo  %ed  %edit  %env  %gui  %hist  %history  %killbgscripts  %ldir  %less  %load  %load_ext  %loadpy  %logoff  %logon  %logstart  %logstate  %logstop  %ls  %lsmagic  %macro  %magic  %matplotlib  %mkdir  %more  %notebook  %page  %pastebin  %pdb  %pdef  %pdoc  %pfile  %pinfo  %pinfo2  %pip  %popd  %pprint  %precision  %prun  %psearch  %psource  %pushd  %pwd  %pycat  %pylab  %qtconsole  %quickref  %recall  %rehashx  %reload_ext  %ren  %rep  %rerun  %reset  %reset_selective  %rmdir  %run  %save  %sc  %set_env  %store  %sx  %system  %tb  %time  %timeit  %unalias  %unload_ext  %who  %who_ls  %whos  %xdel  %xmode\n",
       "\n",
       "Available cell magics:\n",
       "%%!  %%HTML  %%SVG  %%bash  %%capture  %%cmd  %%debug  %%file  %%html  %%javascript  %%js  %%latex  %%markdown  %%perl  %%prun  %%pypy  %%python  %%python2  %%python3  %%ruby  %%script  %%sh  %%svg  %%sx  %%system  %%time  %%timeit  %%writefile\n",
       "\n",
       "Automagic is ON, % prefix IS NOT needed for line magics."
      ]
     },
     "execution_count": 85,
     "metadata": {},
     "output_type": "execute_result"
    }
   ],
   "source": [
    "%lsmagic"
   ]
  },
  {
   "cell_type": "code",
   "execution_count": 86,
   "id": "2e9150c8",
   "metadata": {},
   "outputs": [
    {
     "data": {
      "text/plain": [
       "'C:\\\\Users\\\\Lenovo\\\\Desktop\\\\DataAnalyst\\\\PortfolioProjekt\\\\DAPP4 - Correlation in Python'"
      ]
     },
     "execution_count": 86,
     "metadata": {},
     "output_type": "execute_result"
    }
   ],
   "source": [
    "pwd\n"
   ]
  },
  {
   "cell_type": "code",
   "execution_count": 87,
   "id": "06a28a33",
   "metadata": {},
   "outputs": [
    {
     "name": "stdout",
     "output_type": "stream",
     "text": [
      " Volume in drive C has no label.\n",
      " Volume Serial Number is A2B7-AA8D\n",
      "\n",
      " Directory of C:\\Users\\Lenovo\\Desktop\\DataAnalyst\\PortfolioProjekt\\DAPP4 - Correlation in Python\n",
      "\n",
      "2022. 03. 08.  17:53    <DIR>          .\n",
      "2022. 03. 08.  17:53    <DIR>          ..\n",
      "2022. 03. 06.  13:48    <DIR>          .ipynb_checkpoints\n",
      "2022. 03. 08.  15:34            30˙345 Codemy Python DA.ipynb\n",
      "2021. 07. 23.  18:48         1˙352˙598 movies.csv\n",
      "2022. 03. 08.  17:53            15˙147 Untitled.ipynb\n",
      "2022. 02. 19.  17:31                72 Untitled1.ipynb\n",
      "2022. 02. 19.  17:32                72 Untitled2.ipynb\n",
      "               5 File(s)      1˙398˙234 bytes\n",
      "               3 Dir(s)  25˙137˙180˙672 bytes free\n"
     ]
    }
   ],
   "source": [
    "ls"
   ]
  },
  {
   "cell_type": "code",
   "execution_count": 88,
   "id": "2d50279b",
   "metadata": {},
   "outputs": [
    {
     "name": "stdout",
     "output_type": "stream",
     "text": [
      " Volume in drive C has no label.\n",
      " Volume Serial Number is A2B7-AA8D\n",
      "\n",
      " Directory of C:\\Users\\Lenovo\\Desktop\\DataAnalyst\\PortfolioProjekt\\DAPP4 - Correlation in Python\n",
      "\n"
     ]
    },
    {
     "name": "stderr",
     "output_type": "stream",
     "text": [
      "File Not Found\n"
     ]
    }
   ],
   "source": [
    "ls -la"
   ]
  },
  {
   "cell_type": "code",
   "execution_count": 89,
   "id": "05ec94a8",
   "metadata": {},
   "outputs": [
    {
     "data": {
      "text/plain": [
       "Index(['A', 'B', 'C', 'D', 'E'], dtype='object')"
      ]
     },
     "execution_count": 89,
     "metadata": {},
     "output_type": "execute_result"
    }
   ],
   "source": [
    "df.index\n"
   ]
  },
  {
   "cell_type": "code",
   "execution_count": 90,
   "id": "e3a33b83",
   "metadata": {},
   "outputs": [
    {
     "data": {
      "text/html": [
       "<div>\n",
       "<style scoped>\n",
       "    .dataframe tbody tr th:only-of-type {\n",
       "        vertical-align: middle;\n",
       "    }\n",
       "\n",
       "    .dataframe tbody tr th {\n",
       "        vertical-align: top;\n",
       "    }\n",
       "\n",
       "    .dataframe thead th {\n",
       "        text-align: right;\n",
       "    }\n",
       "</style>\n",
       "<table border=\"1\" class=\"dataframe\">\n",
       "  <thead>\n",
       "    <tr style=\"text-align: right;\">\n",
       "      <th></th>\n",
       "      <th>1</th>\n",
       "      <th>2</th>\n",
       "      <th>3</th>\n",
       "      <th>4</th>\n",
       "    </tr>\n",
       "  </thead>\n",
       "  <tbody>\n",
       "    <tr>\n",
       "      <th>A</th>\n",
       "      <td>-0.735166</td>\n",
       "      <td>0.517432</td>\n",
       "      <td>2.648623</td>\n",
       "      <td>1.553966</td>\n",
       "    </tr>\n",
       "    <tr>\n",
       "      <th>B</th>\n",
       "      <td>0.898535</td>\n",
       "      <td>-0.907354</td>\n",
       "      <td>-1.523261</td>\n",
       "      <td>-0.653714</td>\n",
       "    </tr>\n",
       "    <tr>\n",
       "      <th>C</th>\n",
       "      <td>-0.304665</td>\n",
       "      <td>1.807325</td>\n",
       "      <td>-1.186777</td>\n",
       "      <td>0.778530</td>\n",
       "    </tr>\n",
       "    <tr>\n",
       "      <th>D</th>\n",
       "      <td>0.237133</td>\n",
       "      <td>0.650343</td>\n",
       "      <td>-1.520446</td>\n",
       "      <td>-0.148915</td>\n",
       "    </tr>\n",
       "    <tr>\n",
       "      <th>E</th>\n",
       "      <td>-2.881425</td>\n",
       "      <td>-1.074426</td>\n",
       "      <td>-0.718726</td>\n",
       "      <td>0.972576</td>\n",
       "    </tr>\n",
       "  </tbody>\n",
       "</table>\n",
       "</div>"
      ],
      "text/plain": [
       "          1         2         3         4\n",
       "A -0.735166  0.517432  2.648623  1.553966\n",
       "B  0.898535 -0.907354 -1.523261 -0.653714\n",
       "C -0.304665  1.807325 -1.186777  0.778530\n",
       "D  0.237133  0.650343 -1.520446 -0.148915\n",
       "E -2.881425 -1.074426 -0.718726  0.972576"
      ]
     },
     "execution_count": 90,
     "metadata": {},
     "output_type": "execute_result"
    }
   ],
   "source": [
    "df"
   ]
  },
  {
   "cell_type": "code",
   "execution_count": 94,
   "id": "24b7392d",
   "metadata": {},
   "outputs": [
    {
     "ename": "KeyError",
     "evalue": "'None of [1] are in the columns'",
     "output_type": "error",
     "traceback": [
      "\u001b[1;31m---------------------------------------------------------------------------\u001b[0m",
      "\u001b[1;31mKeyError\u001b[0m                                  Traceback (most recent call last)",
      "Input \u001b[1;32mIn [94]\u001b[0m, in \u001b[0;36m<module>\u001b[1;34m\u001b[0m\n\u001b[1;32m----> 1\u001b[0m \u001b[43mdf\u001b[49m\u001b[38;5;241;43m.\u001b[39;49m\u001b[43mset_index\u001b[49m\u001b[43m(\u001b[49m\u001b[38;5;241;43m1\u001b[39;49m\u001b[43m,\u001b[49m\u001b[43m \u001b[49m\u001b[43minplace\u001b[49m\u001b[38;5;241;43m=\u001b[39;49m\u001b[38;5;28;43;01mTrue\u001b[39;49;00m\u001b[43m)\u001b[49m\n",
      "File \u001b[1;32mC:\\Program Files\\Python\\Python310\\lib\\site-packages\\pandas\\util\\_decorators.py:311\u001b[0m, in \u001b[0;36mdeprecate_nonkeyword_arguments.<locals>.decorate.<locals>.wrapper\u001b[1;34m(*args, **kwargs)\u001b[0m\n\u001b[0;32m    305\u001b[0m \u001b[38;5;28;01mif\u001b[39;00m \u001b[38;5;28mlen\u001b[39m(args) \u001b[38;5;241m>\u001b[39m num_allow_args:\n\u001b[0;32m    306\u001b[0m     warnings\u001b[38;5;241m.\u001b[39mwarn(\n\u001b[0;32m    307\u001b[0m         msg\u001b[38;5;241m.\u001b[39mformat(arguments\u001b[38;5;241m=\u001b[39marguments),\n\u001b[0;32m    308\u001b[0m         \u001b[38;5;167;01mFutureWarning\u001b[39;00m,\n\u001b[0;32m    309\u001b[0m         stacklevel\u001b[38;5;241m=\u001b[39mstacklevel,\n\u001b[0;32m    310\u001b[0m     )\n\u001b[1;32m--> 311\u001b[0m \u001b[38;5;28;01mreturn\u001b[39;00m func(\u001b[38;5;241m*\u001b[39margs, \u001b[38;5;241m*\u001b[39m\u001b[38;5;241m*\u001b[39mkwargs)\n",
      "File \u001b[1;32mC:\\Program Files\\Python\\Python310\\lib\\site-packages\\pandas\\core\\frame.py:5488\u001b[0m, in \u001b[0;36mDataFrame.set_index\u001b[1;34m(self, keys, drop, append, inplace, verify_integrity)\u001b[0m\n\u001b[0;32m   5485\u001b[0m                 missing\u001b[38;5;241m.\u001b[39mappend(col)\n\u001b[0;32m   5487\u001b[0m \u001b[38;5;28;01mif\u001b[39;00m missing:\n\u001b[1;32m-> 5488\u001b[0m     \u001b[38;5;28;01mraise\u001b[39;00m \u001b[38;5;167;01mKeyError\u001b[39;00m(\u001b[38;5;124mf\u001b[39m\u001b[38;5;124m\"\u001b[39m\u001b[38;5;124mNone of \u001b[39m\u001b[38;5;132;01m{\u001b[39;00mmissing\u001b[38;5;132;01m}\u001b[39;00m\u001b[38;5;124m are in the columns\u001b[39m\u001b[38;5;124m\"\u001b[39m)\n\u001b[0;32m   5490\u001b[0m \u001b[38;5;28;01mif\u001b[39;00m inplace:\n\u001b[0;32m   5491\u001b[0m     frame \u001b[38;5;241m=\u001b[39m \u001b[38;5;28mself\u001b[39m\n",
      "\u001b[1;31mKeyError\u001b[0m: 'None of [1] are in the columns'"
     ]
    }
   ],
   "source": [
    "df.set_index(1, inplace=True)"
   ]
  },
  {
   "cell_type": "code",
   "execution_count": 95,
   "id": "9ca5095c",
   "metadata": {},
   "outputs": [
    {
     "data": {
      "text/html": [
       "<div>\n",
       "<style scoped>\n",
       "    .dataframe tbody tr th:only-of-type {\n",
       "        vertical-align: middle;\n",
       "    }\n",
       "\n",
       "    .dataframe tbody tr th {\n",
       "        vertical-align: top;\n",
       "    }\n",
       "\n",
       "    .dataframe thead th {\n",
       "        text-align: right;\n",
       "    }\n",
       "</style>\n",
       "<table border=\"1\" class=\"dataframe\">\n",
       "  <thead>\n",
       "    <tr style=\"text-align: right;\">\n",
       "      <th></th>\n",
       "      <th>2</th>\n",
       "      <th>3</th>\n",
       "      <th>4</th>\n",
       "    </tr>\n",
       "    <tr>\n",
       "      <th>1</th>\n",
       "      <th></th>\n",
       "      <th></th>\n",
       "      <th></th>\n",
       "    </tr>\n",
       "  </thead>\n",
       "  <tbody>\n",
       "    <tr>\n",
       "      <th>-0.735166</th>\n",
       "      <td>0.517432</td>\n",
       "      <td>2.648623</td>\n",
       "      <td>1.553966</td>\n",
       "    </tr>\n",
       "    <tr>\n",
       "      <th>0.898535</th>\n",
       "      <td>-0.907354</td>\n",
       "      <td>-1.523261</td>\n",
       "      <td>-0.653714</td>\n",
       "    </tr>\n",
       "    <tr>\n",
       "      <th>-0.304665</th>\n",
       "      <td>1.807325</td>\n",
       "      <td>-1.186777</td>\n",
       "      <td>0.778530</td>\n",
       "    </tr>\n",
       "    <tr>\n",
       "      <th>0.237133</th>\n",
       "      <td>0.650343</td>\n",
       "      <td>-1.520446</td>\n",
       "      <td>-0.148915</td>\n",
       "    </tr>\n",
       "    <tr>\n",
       "      <th>-2.881425</th>\n",
       "      <td>-1.074426</td>\n",
       "      <td>-0.718726</td>\n",
       "      <td>0.972576</td>\n",
       "    </tr>\n",
       "  </tbody>\n",
       "</table>\n",
       "</div>"
      ],
      "text/plain": [
       "                  2         3         4\n",
       "1                                      \n",
       "-0.735166  0.517432  2.648623  1.553966\n",
       " 0.898535 -0.907354 -1.523261 -0.653714\n",
       "-0.304665  1.807325 -1.186777  0.778530\n",
       " 0.237133  0.650343 -1.520446 -0.148915\n",
       "-2.881425 -1.074426 -0.718726  0.972576"
      ]
     },
     "execution_count": 95,
     "metadata": {},
     "output_type": "execute_result"
    }
   ],
   "source": [
    "df"
   ]
  },
  {
   "cell_type": "code",
   "execution_count": 96,
   "id": "8bb81510",
   "metadata": {},
   "outputs": [],
   "source": [
    "df.reset_index(inplace=True)"
   ]
  },
  {
   "cell_type": "code",
   "execution_count": 97,
   "id": "c4349ff4",
   "metadata": {},
   "outputs": [
    {
     "data": {
      "text/html": [
       "<div>\n",
       "<style scoped>\n",
       "    .dataframe tbody tr th:only-of-type {\n",
       "        vertical-align: middle;\n",
       "    }\n",
       "\n",
       "    .dataframe tbody tr th {\n",
       "        vertical-align: top;\n",
       "    }\n",
       "\n",
       "    .dataframe thead th {\n",
       "        text-align: right;\n",
       "    }\n",
       "</style>\n",
       "<table border=\"1\" class=\"dataframe\">\n",
       "  <thead>\n",
       "    <tr style=\"text-align: right;\">\n",
       "      <th></th>\n",
       "      <th>1</th>\n",
       "      <th>2</th>\n",
       "      <th>3</th>\n",
       "      <th>4</th>\n",
       "    </tr>\n",
       "  </thead>\n",
       "  <tbody>\n",
       "    <tr>\n",
       "      <th>0</th>\n",
       "      <td>-0.735166</td>\n",
       "      <td>0.517432</td>\n",
       "      <td>2.648623</td>\n",
       "      <td>1.553966</td>\n",
       "    </tr>\n",
       "    <tr>\n",
       "      <th>1</th>\n",
       "      <td>0.898535</td>\n",
       "      <td>-0.907354</td>\n",
       "      <td>-1.523261</td>\n",
       "      <td>-0.653714</td>\n",
       "    </tr>\n",
       "    <tr>\n",
       "      <th>2</th>\n",
       "      <td>-0.304665</td>\n",
       "      <td>1.807325</td>\n",
       "      <td>-1.186777</td>\n",
       "      <td>0.778530</td>\n",
       "    </tr>\n",
       "    <tr>\n",
       "      <th>3</th>\n",
       "      <td>0.237133</td>\n",
       "      <td>0.650343</td>\n",
       "      <td>-1.520446</td>\n",
       "      <td>-0.148915</td>\n",
       "    </tr>\n",
       "    <tr>\n",
       "      <th>4</th>\n",
       "      <td>-2.881425</td>\n",
       "      <td>-1.074426</td>\n",
       "      <td>-0.718726</td>\n",
       "      <td>0.972576</td>\n",
       "    </tr>\n",
       "  </tbody>\n",
       "</table>\n",
       "</div>"
      ],
      "text/plain": [
       "          1         2         3         4\n",
       "0 -0.735166  0.517432  2.648623  1.553966\n",
       "1  0.898535 -0.907354 -1.523261 -0.653714\n",
       "2 -0.304665  1.807325 -1.186777  0.778530\n",
       "3  0.237133  0.650343 -1.520446 -0.148915\n",
       "4 -2.881425 -1.074426 -0.718726  0.972576"
      ]
     },
     "execution_count": 97,
     "metadata": {},
     "output_type": "execute_result"
    }
   ],
   "source": [
    "df"
   ]
  },
  {
   "cell_type": "code",
   "execution_count": null,
   "id": "319226bf",
   "metadata": {},
   "outputs": [],
   "source": []
  }
 ],
 "metadata": {
  "kernelspec": {
   "display_name": "Python 3 (ipykernel)",
   "language": "python",
   "name": "python3"
  },
  "language_info": {
   "codemirror_mode": {
    "name": "ipython",
    "version": 3
   },
   "file_extension": ".py",
   "mimetype": "text/x-python",
   "name": "python",
   "nbconvert_exporter": "python",
   "pygments_lexer": "ipython3",
   "version": "3.10.0"
  }
 },
 "nbformat": 4,
 "nbformat_minor": 5
}
